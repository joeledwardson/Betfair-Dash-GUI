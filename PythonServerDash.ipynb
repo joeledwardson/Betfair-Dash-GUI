{
 "cells": [
  {
   "cell_type": "markdown",
   "metadata": {},
   "source": [
    "# Dash Server"
   ]
  },
  {
   "cell_type": "markdown",
   "metadata": {},
   "source": [
    "## Setup"
   ]
  },
  {
   "cell_type": "code",
   "execution_count": 45,
   "metadata": {},
   "outputs": [],
   "source": [
    "import numpy as np\n",
    "import pandas as pd"
   ]
  },
  {
   "cell_type": "markdown",
   "metadata": {},
   "source": [
    "### Logging"
   ]
  },
  {
   "cell_type": "code",
   "execution_count": 46,
   "metadata": {},
   "outputs": [
    {
     "name": "stderr",
     "output_type": "stream",
     "text": [
      "03-Jul-20 01:25:52 - __main__ - INFO     - Logger __main__ starting...\n"
     ]
    },
    {
     "data": {
      "text/plain": [
       "<Logger __main__ (DEBUG)>"
      ]
     },
     "execution_count": 46,
     "metadata": {},
     "output_type": "execute_result"
    }
   ],
   "source": [
    "from myutils import customlogging\n",
    "import importlib\n",
    "importlib.reload(customlogging)\n",
    "mylogger = customlogging.create_dual_logger(__name__, 'log/dashlog.log', file_reset=True)\n",
    "mylogger"
   ]
  },
  {
   "cell_type": "markdown",
   "metadata": {},
   "source": [
    "### Libraries"
   ]
  },
  {
   "cell_type": "code",
   "execution_count": 47,
   "metadata": {},
   "outputs": [
    {
     "name": "stdout",
     "output_type": "stream",
     "text": [
      "20-07-03 01-25-52 - utils lib reloaded\n"
     ]
    }
   ],
   "source": [
    "from myutils import generic, betting, timing, guiserver, importer\n",
    "importer.reload_utils()"
   ]
  },
  {
   "cell_type": "markdown",
   "metadata": {},
   "source": [
    "### Historical List"
   ]
  },
  {
   "cell_type": "code",
   "execution_count": 49,
   "metadata": {},
   "outputs": [
    {
     "name": "stdout",
     "output_type": "stream",
     "text": [
      "Data entries: 20730\n"
     ]
    }
   ],
   "source": [
    "trading = betting.get_api_client()\n",
    "trading.login()\n",
    "\n",
    "historical_queue = betting.get_historical(trading, r'data/bfsamplerace')\n",
    "historical_list = list(historical_queue.queue)\n",
    "print(f'Data entries: {len(historical_list)}')"
   ]
  },
  {
   "cell_type": "markdown",
   "metadata": {},
   "source": [
    "### Writing to file"
   ]
  },
  {
   "cell_type": "code",
   "execution_count": null,
   "metadata": {},
   "outputs": [],
   "source": [
    "import jsonpickle\n",
    "d = jsonpickle.encode(historical_list)"
   ]
  },
  {
   "cell_type": "markdown",
   "metadata": {},
   "source": [
    "### Ladder processing"
   ]
  },
  {
   "cell_type": "code",
   "execution_count": 9,
   "metadata": {},
   "outputs": [
    {
     "name": "stdout",
     "output_type": "stream",
     "text": [
      "20-07-01 16-22-49 - utils lib reloaded\n",
      "Finished process_runners in 104.0522 seconds\n"
     ]
    }
   ],
   "source": [
    "importer.reload_utils()\n",
    "histProcessor = betting.HistoricalProcessor()\n",
    "f = timing.decorator_timer(histProcessor.process_runners)\n",
    "runner_ladders = f(historical_list, betting.TICKS)"
   ]
  },
  {
   "cell_type": "code",
   "execution_count": null,
   "metadata": {},
   "outputs": [],
   "source": [
    "list(runner_ladders.items())[0][1]['ladder']['available_to_back'].shape"
   ]
  },
  {
   "cell_type": "code",
   "execution_count": null,
   "metadata": {},
   "outputs": [],
   "source": [
    "list(runner_ladders['data'])"
   ]
  },
  {
   "cell_type": "code",
   "execution_count": null,
   "metadata": {},
   "outputs": [],
   "source": [
    "list(runner_ladders.items())[0][1]['ladder']['available_to_back'].flatten().shape"
   ]
  },
  {
   "cell_type": "code",
   "execution_count": null,
   "metadata": {},
   "outputs": [],
   "source": [
    "dts = [r[0].publish_time for r in historical_list]"
   ]
  },
  {
   "cell_type": "code",
   "execution_count": null,
   "metadata": {},
   "outputs": [],
   "source": []
  },
  {
   "cell_type": "code",
   "execution_count": null,
   "metadata": {},
   "outputs": [],
   "source": [
    "ids = [k for k in runner_ladders]"
   ]
  },
  {
   "cell_type": "code",
   "execution_count": null,
   "metadata": {},
   "outputs": [],
   "source": [
    "index = pd.MultiIndex.from_product([dts, betting.TICKS])"
   ]
  },
  {
   "cell_type": "code",
   "execution_count": null,
   "metadata": {},
   "outputs": [],
   "source": [
    "cols = pd.MultiIndex.from_product([ids, histProcessor.book_attrs])"
   ]
  },
  {
   "cell_type": "code",
   "execution_count": null,
   "metadata": {},
   "outputs": [],
   "source": [
    "colVals = []\n",
    "for id, r in runner_ladders.items():\n",
    "    l = r['ladder']\n",
    "    for a in histProcessor.book_attrs:\n",
    "        colVals.append(l[a].flatten())"
   ]
  },
  {
   "cell_type": "code",
   "execution_count": null,
   "metadata": {},
   "outputs": [],
   "source": [
    "np.transpose(np.array([\n",
    "    r['ladder'][a].flatten()\n",
    "    for r in runner_ladders.values()\n",
    "    for a in histProcessor.book_attrs\n",
    "]))"
   ]
  },
  {
   "cell_type": "code",
   "execution_count": null,
   "metadata": {},
   "outputs": [],
   "source": [
    "[i for i in range(4, 6) for j in range(2)]"
   ]
  },
  {
   "cell_type": "code",
   "execution_count": null,
   "metadata": {},
   "outputs": [],
   "source": [
    "np.array(colVals).transpose().shape"
   ]
  },
  {
   "cell_type": "code",
   "execution_count": null,
   "metadata": {},
   "outputs": [],
   "source": [
    "np.hstack([[1,2],[3,4]])"
   ]
  },
  {
   "cell_type": "code",
   "execution_count": null,
   "metadata": {},
   "outputs": [],
   "source": [
    "pd.DataFrame(data=[[1,2],[3,4]],dtype=object)"
   ]
  },
  {
   "cell_type": "markdown",
   "metadata": {},
   "source": [
    "## Indexing book against ticks"
   ]
  },
  {
   "cell_type": "markdown",
   "metadata": {},
   "source": [
    "Could use numpy or regular lists, but should check speed first"
   ]
  },
  {
   "cell_type": "code",
   "execution_count": 19,
   "metadata": {},
   "outputs": [],
   "source": [
    "from myutils.timing import decorator_timer\n",
    "import numpy as np\n",
    "\n",
    "l = range(100000)\n",
    "npl = np.array(l)\n",
    "\n",
    "@decorator_timer\n",
    "def nptestin(x):\n",
    "    w = np.where(npl==x)[0]\n",
    "    if w.shape[0]:\n",
    "        return w[0]\n",
    "    else:\n",
    "        print('not found')\n",
    "        \n",
    "@decorator_timer\n",
    "def testin(x):\n",
    "    if x in l:\n",
    "        return l.index(x)\n",
    "    else:\n",
    "        print('not found')"
   ]
  },
  {
   "cell_type": "code",
   "execution_count": 44,
   "metadata": {},
   "outputs": [
    {
     "name": "stdout",
     "output_type": "stream",
     "text": [
      "not found\n",
      "Finished testin in 0.0001 seconds\n"
     ]
    }
   ],
   "source": [
    "testin(999999)"
   ]
  },
  {
   "cell_type": "code",
   "execution_count": 43,
   "metadata": {},
   "outputs": [
    {
     "name": "stdout",
     "output_type": "stream",
     "text": [
      "not found\n",
      "Finished nptestin in 0.0004 seconds\n"
     ]
    }
   ],
   "source": [
    "nptestin(999999)"
   ]
  },
  {
   "cell_type": "markdown",
   "metadata": {},
   "source": [
    "# Dash"
   ]
  },
  {
   "cell_type": "code",
   "execution_count": 10,
   "metadata": {},
   "outputs": [],
   "source": [
    "import plotly\n",
    "import plotly.graph_objs as go\n",
    "import dash_core_components as dcc\n",
    "import dash\n",
    "from dash.dependencies import Input, Output\n",
    "import dash_html_components as html\n",
    "import dash_table\n",
    "import plotly.express as px\n",
    "import pandas as pd\n",
    "import numpy as np"
   ]
  },
  {
   "cell_type": "code",
   "execution_count": null,
   "metadata": {},
   "outputs": [],
   "source": []
  },
  {
   "cell_type": "code",
   "execution_count": 16,
   "metadata": {},
   "outputs": [
    {
     "name": "stderr",
     "output_type": "stream",
     "text": [
      "01-Jul-20 16:30:54 - __main__ - INFO     - Dash is running on http://127.0.0.1:8050/\n",
      "\n"
     ]
    },
    {
     "name": "stdout",
     "output_type": "stream",
     "text": [
      "Dash is running on http://127.0.0.1:8050/\n",
      "\n",
      "Dash is running on http://127.0.0.1:8050/\n",
      "\n",
      "Dash is running on http://127.0.0.1:8050/\n",
      "\n",
      "Dash is running on http://127.0.0.1:8050/\n",
      "\n",
      "Dash is running on http://127.0.0.1:8050/\n",
      "\n"
     ]
    },
    {
     "name": "stderr",
     "output_type": "stream",
     "text": [
      "01-Jul-20 16:30:54 - __main__ - INFO     -  Warning: This is a development server. Do not use app.run_server\n"
     ]
    },
    {
     "name": "stdout",
     "output_type": "stream",
     "text": [
      " Warning: This is a development server. Do not use app.run_server\n",
      " Warning: This is a development server. Do not use app.run_server\n",
      " Warning: This is a development server. Do not use app.run_server\n",
      " Warning: This is a development server. Do not use app.run_server\n",
      " Warning: This is a development server. Do not use app.run_server\n"
     ]
    },
    {
     "name": "stderr",
     "output_type": "stream",
     "text": [
      "01-Jul-20 16:30:54 - __main__ - INFO     -  in production, use a production WSGI server like gunicorn instead.\n",
      "\n"
     ]
    },
    {
     "name": "stdout",
     "output_type": "stream",
     "text": [
      " in production, use a production WSGI server like gunicorn instead.\n",
      "\n",
      " in production, use a production WSGI server like gunicorn instead.\n",
      "\n",
      " in production, use a production WSGI server like gunicorn instead.\n",
      "\n",
      " in production, use a production WSGI server like gunicorn instead.\n",
      "\n",
      " in production, use a production WSGI server like gunicorn instead.\n",
      "\n",
      " * Serving Flask app \"__main__\" (lazy loading)\n",
      " * Environment: production\n",
      "   WARNING: This is a development server. Do not use it in a production deployment.\n",
      "   Use a production WSGI server instead.\n",
      " * Debug mode: off\n"
     ]
    },
    {
     "name": "stderr",
     "output_type": "stream",
     "text": [
      " * Running on http://127.0.0.1:8050/ (Press CTRL+C to quit)\n",
      "127.0.0.1 - - [01/Jul/2020 16:30:57] \"\u001b[37mGET / HTTP/1.1\u001b[0m\" 200 -\n",
      "127.0.0.1 - - [01/Jul/2020 16:30:57] \"\u001b[37mGET /assets/GUI.css?m=1593617437.173114 HTTP/1.1\u001b[0m\" 200 -\n",
      "127.0.0.1 - - [01/Jul/2020 16:30:57] \"\u001b[37mGET /assets/.ipynb_checkpoints/GUI-checkpoint.css?m=1593617141.9396067 HTTP/1.1\u001b[0m\" 200 -\n",
      "127.0.0.1 - - [01/Jul/2020 16:30:57] \"\u001b[37mGET /assets/styles.css?m=1593617437.1781104 HTTP/1.1\u001b[0m\" 200 -\n",
      "127.0.0.1 - - [01/Jul/2020 16:30:57] \"\u001b[37mGET /assets/default.css?m=1593617437.1703696 HTTP/1.1\u001b[0m\" 200 -\n",
      "127.0.0.1 - - [01/Jul/2020 16:30:58] \"\u001b[37mGET /_dash-layout HTTP/1.1\u001b[0m\" 200 -\n",
      "127.0.0.1 - - [01/Jul/2020 16:30:58] \"\u001b[37mGET /_dash-dependencies HTTP/1.1\u001b[0m\" 200 -\n",
      "127.0.0.1 - - [01/Jul/2020 16:30:58] \"\u001b[37mGET /_favicon.ico?v=1.13.3 HTTP/1.1\u001b[0m\" 200 -\n",
      "127.0.0.1 - - [01/Jul/2020 16:31:02] \"\u001b[37mGET /_dash-component-suites/dash_table/bundle.js.map HTTP/1.1\u001b[0m\" 200 -\n",
      "127.0.0.1 - - [01/Jul/2020 16:31:02] \"\u001b[37mGET /_dash-component-suites/dash_html_components/dash_html_components.min.js.map HTTP/1.1\u001b[0m\" 200 -\n",
      "127.0.0.1 - - [01/Jul/2020 16:31:02] \"\u001b[37mGET /_dash-component-suites/dash_core_components/dash_core_components.min.js.map HTTP/1.1\u001b[0m\" 200 -\n",
      "127.0.0.1 - - [01/Jul/2020 16:31:02] \"\u001b[37mGET /_dash-component-suites/dash_core_components/dash_core_components-shared.js.map HTTP/1.1\u001b[0m\" 200 -\n",
      "127.0.0.1 - - [01/Jul/2020 16:31:02] \"\u001b[37mGET /_dash-component-suites/dash_core_components/async-graph.js.map HTTP/1.1\u001b[0m\" 200 -\n",
      "127.0.0.1 - - [01/Jul/2020 16:31:02] \"\u001b[37mGET /_dash-component-suites/dash_table/async-table.js.map HTTP/1.1\u001b[0m\" 200 -\n"
     ]
    }
   ],
   "source": [
    "app = dash.Dash(__name__)\n",
    "\n",
    "fig = px.scatter(pd.DataFrame({'x': [1,2,3,4], 'y':[10, 40, 35, 70]}))\n",
    "\n",
    "d0 = historical_list[0][0]\n",
    "\n",
    "app.layout = html.Div(className='content-container', children=[\n",
    "    html.H1('Betfair GUI', className='content-header'),\n",
    "    html.Div(className=\"info-container\", children=[\n",
    "        html.Div(historical_list[0][0].market_definition.event_name)\n",
    "    ]),\n",
    "    dcc.Graph(\n",
    "        id='example-graph',\n",
    "        figure=fig\n",
    "    ),\n",
    "])\n",
    "\n",
    "\n",
    "if __name__ == '__main__':\n",
    "    app.run_server(debug=False)"
   ]
  }
 ],
 "metadata": {
  "kernelspec": {
   "display_name": "Python 3",
   "language": "python",
   "name": "python3"
  },
  "language_info": {
   "codemirror_mode": {
    "name": "ipython",
    "version": 3
   },
   "file_extension": ".py",
   "mimetype": "text/x-python",
   "name": "python",
   "nbconvert_exporter": "python",
   "pygments_lexer": "ipython3",
   "version": "3.7.7"
  }
 },
 "nbformat": 4,
 "nbformat_minor": 4
}
